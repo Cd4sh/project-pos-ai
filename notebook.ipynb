{
 "cells": [
  {
   "cell_type": "code",
   "execution_count": 1,
   "metadata": {},
   "outputs": [],
   "source": [
    "import pandas as pd\n",
    "import matplotlib.pyplot as plt\n",
    "import numpy as np\n",
    "import seaborn as sns"
   ]
  },
  {
   "cell_type": "code",
   "execution_count": null,
   "metadata": {},
   "outputs": [],
   "source": [
    "#Função de tratamento de dataset\n",
    "\n",
    "def tratamento(df):\n",
    "    #df['TOTALCHARGES'] = df['TOTALCHARGES'].astype('float64');\n",
    "\n",
    "    df.replace('Yes', 1, inplace=True);\n",
    "    df.replace('No', 0, inplace=True);\n",
    "\n",
    "    return df;"
   ]
  },
  {
   "cell_type": "code",
   "execution_count": 2,
   "metadata": {
    "scrolled": true
   },
   "outputs": [
    {
     "data": {
      "text/plain": [
       "(5434, 21)"
      ]
     },
     "execution_count": 2,
     "metadata": {},
     "output_type": "execute_result"
    }
   ],
   "source": [
    "# Carregando o dataset\n",
    "\n",
    "df = pd.read_csv(\"dataset.csv\");\n",
    "df.shape"
   ]
  },
  {
   "cell_type": "code",
   "execution_count": 3,
   "metadata": {},
   "outputs": [],
   "source": [
    "#Visualização e percepções de dados\n",
    "#Análise univariada\n",
    "#Análise bivariada / multivariada\n",
    "#Pivot\n",
    "#Possíveis ajustes e tratamento dos dados\n",
    "#Feature engineering\n",
    "#Verificações de suposição do(s) modelo(s) de Aprendizado de\n",
    "#Máquina\n",
    "#Preparação de dados para o(s) modelo(s)"
   ]
  },
  {
   "cell_type": "code",
   "execution_count": null,
   "metadata": {},
   "outputs": [],
   "source": []
  },
  {
   "cell_type": "markdown",
   "metadata": {},
   "source": [
    "Podemos usar os métodos `.info()`, `.value_counts()` e `.describe()` para obter informações básicas sobre quantidade presente dos dados, tipos e valores deles."
   ]
  },
  {
   "cell_type": "code",
   "execution_count": 4,
   "metadata": {},
   "outputs": [
    {
     "name": "stdout",
     "output_type": "stream",
     "text": [
      "(4106, 21)\n",
      "<class 'pandas.core.frame.DataFrame'>\n",
      "Int64Index: 4106 entries, 0 to 4547\n",
      "Data columns (total 21 columns):\n",
      " #   Column            Non-Null Count  Dtype  \n",
      "---  ------            --------------  -----  \n",
      " 0   ID                4106 non-null   int64  \n",
      " 1   GENDER            4106 non-null   int64  \n",
      " 2   SENIORCITIZEN     4106 non-null   float64\n",
      " 3   PARTNER           4106 non-null   int64  \n",
      " 4   DEPENDENTS        4106 non-null   int64  \n",
      " 5   TENURE            4106 non-null   float64\n",
      " 6   PHONESERVICE      4106 non-null   int64  \n",
      " 7   MULTIPLELINES     4106 non-null   int64  \n",
      " 8   INTERNETSERVICE   4106 non-null   int64  \n",
      " 9   ONLINESECURITY    4106 non-null   int64  \n",
      " 10  ONLINEBACKUP      4106 non-null   int64  \n",
      " 11  DEVICEPROTECTION  4106 non-null   int64  \n",
      " 12  TECHSUPPORT       4106 non-null   int64  \n",
      " 13  STREAMINGTV       4106 non-null   int64  \n",
      " 14  STREAMINGMOVIES   4106 non-null   int64  \n",
      " 15  CONTRACT          4106 non-null   int64  \n",
      " 16  PAPERLESSBILLING  4106 non-null   int64  \n",
      " 17  PAYMENTMETHOD     4106 non-null   int64  \n",
      " 18  MONTHLYCHARGES    4106 non-null   float64\n",
      " 19  TOTALCHARGES      4106 non-null   float64\n",
      " 20  CHURN             4106 non-null   int64  \n",
      "dtypes: float64(4), int64(17)\n",
      "memory usage: 705.7 KB\n"
     ]
    }
   ],
   "source": [
    "df = tratamento(df);\n",
    "print(df.shape);\n",
    "df.info()"
   ]
  },
  {
   "cell_type": "code",
   "execution_count": 5,
   "metadata": {},
   "outputs": [
    {
     "data": {
      "image/png": "[encoded data removed]",
      "text/plain": [
       "<Figure size 432x288 with 1 Axes>"
      ]
     },
     "metadata": {
      "needs_background": "light"
     },
     "output_type": "display_data"
    }
   ],
   "source": [
    "#Observa-se que o dataset está desbalanceado\n",
    "\n",
    "risk_plot = sns.countplot(data=df, x='CHURN', order=df['CHURN'].value_counts().index)\n",
    "plt.show()"
   ]
  },
  {
   "cell_type": "markdown",
   "metadata": {},
   "source": [
    "## Criação do modelo\n",
    "\n",
    "Para conseguir avaliar o desempenho do nosso modelo, vamos dividir os dados que temos entre dados de treino e de teste, e assim, após o treinamento, verificar como ele está se saindo com as predições."
   ]
  },
  {
   "cell_type": "code",
   "execution_count": 6,
   "metadata": {},
   "outputs": [],
   "source": [
    "#from sklearn.tree import DecisionTreeClassifier\n",
    "from sklearn.ensemble import RandomForestClassifier\n",
    "from sklearn.model_selection import train_test_split\n",
    "from sklearn.metrics import f1_score\n",
    "from imblearn.over_sampling import SMOTE\n"
   ]
  },
  {
   "cell_type": "code",
   "execution_count": 7,
   "metadata": {},
   "outputs": [],
   "source": [
    "clean_df = df;"
   ]
  },
  {
   "cell_type": "code",
   "execution_count": 11,
   "metadata": {},
   "outputs": [
    {
     "data": {
      "text/plain": [
       "CHURN               1.000000\n",
       "CONTRACT            0.398171\n",
       "TENURE              0.358111\n",
       "INTERNETSERVICE     0.314863\n",
       "ONLINESECURITY      0.284204\n",
       "TECHSUPPORT         0.284006\n",
       "PAYMENTMETHOD       0.282370\n",
       "ONLINEBACKUP        0.265068\n",
       "DEVICEPROTECTION    0.259771\n",
       "STREAMINGMOVIES     0.223920\n",
       "STREAMINGTV         0.223664\n",
       "PAPERLESSBILLING    0.203243\n",
       "TOTALCHARGES        0.203189\n",
       "DEPENDENTS          0.162725\n",
       "SENIORCITIZEN       0.152072\n",
       "PARTNER             0.149045\n",
       "MONTHLYCHARGES      0.096750\n",
       "GENDER              0.022519\n",
       "PHONESERVICE        0.009270\n",
       "ID                  0.008961\n",
       "MULTIPLELINES       0.000023\n",
       "Name: CHURN, dtype: float64"
      ]
     },
     "execution_count": 11,
     "metadata": {},
     "output_type": "execute_result"
    }
   ],
   "source": [
    "clean_df.columns.size\n",
    "#print(clean_df.columns);\n",
    "\n",
    "#Analisando a correlação entre cada coluna e a coluna objetivo para a escolha de parâmetros:\n",
    "abs(clean_df[clean_df.columns[:]].corr())['CHURN'][:].sort_values(ascending=False)"
   ]
  },
  {
   "cell_type": "markdown",
   "metadata": {},
   "source": [
    "Foram escolhidos como parâmetros colunas com correlação maior que 0.02 para com a variável objetivo.\n"
   ]
  },
  {
   "cell_type": "code",
   "execution_count": 12,
   "metadata": {},
   "outputs": [
    {
     "data": {
      "text/plain": [
       "CHURN\n",
       "1        3029\n",
       "0        3029\n",
       "dtype: int64"
      ]
     },
     "execution_count": 12,
     "metadata": {},
     "output_type": "execute_result"
    }
   ],
   "source": [
    "\n",
    "features = ['GENDER', 'SENIORCITIZEN', 'PARTNER', 'DEPENDENTS', 'TENURE',\n",
    "       'INTERNETSERVICE', 'ONLINESECURITY',\n",
    "       'ONLINEBACKUP', 'DEVICEPROTECTION', 'TECHSUPPORT', 'STREAMINGTV',\n",
    "       'STREAMINGMOVIES', 'CONTRACT', 'PAPERLESSBILLING', 'PAYMENTMETHOD',\n",
    "       'MONTHLYCHARGES', 'TOTALCHARGES']\n",
    "\n",
    "target = ['CHURN']\n",
    "\n",
    "X = clean_df[features]\n",
    "y = clean_df[target]"
   ]
  },
  {
   "cell_type": "markdown",
   "metadata": {},
   "source": [
    "O SMOTE foi a alternativa usada para lidar com o desbalanceamento"
   ]
  },
  {
   "cell_type": "code",
   "execution_count": 13,
   "metadata": {},
   "outputs": [
    {
     "data": {
      "text/plain": [
       "CHURN\n",
       "1        3029\n",
       "0        3029\n",
       "dtype: int64"
      ]
     },
     "execution_count": 13,
     "metadata": {},
     "output_type": "execute_result"
    }
   ],
   "source": [
    "oversample = SMOTE()\n",
    "X, y = oversample.fit_resample(X, y)\n",
    "\n",
    "y.value_counts()"
   ]
  },
  {
   "cell_type": "markdown",
   "metadata": {},
   "source": [
    "Abaixo, separamos os dados que queremos predizer dos dados que utilizamos como informações para a predição."
   ]
  },
  {
   "cell_type": "code",
   "execution_count": 14,
   "metadata": {},
   "outputs": [
    {
     "name": "stdout",
     "output_type": "stream",
     "text": [
      "Acurácia do modelo (número de predições assertivas sobre número total de testes): 0.8548770816812055\n"
     ]
    }
   ],
   "source": [
    "test_pct = 0.2 # Separaremos 30% dos dados para testes\n",
    "X_train, X_test, y_train, y_test = train_test_split(X, y, test_size=test_pct)\n",
    "\n",
    "model = RandomForestClassifier(n_estimators=999)\n",
    "model.fit(X_train, y_train.values.ravel())\n",
    "\n",
    "y_pred = model.predict(X_test);\n",
    "acc = f1_score(y_test, y_pred);\n",
    "print(f\"Acurácia do modelo (número de predições assertivas sobre número total de testes): {acc}\")"
   ]
  },
  {
   "cell_type": "code",
   "execution_count": 15,
   "metadata": {},
   "outputs": [],
   "source": [
    "dfa = pd.read_csv(\"ANSWER.csv\");\n",
    "\n",
    "dfa = tratamento(dfa);\n",
    "\n",
    "answer = model.predict(dfa[features]);"
   ]
  },
  {
   "cell_type": "code",
   "execution_count": 16,
   "metadata": {},
   "outputs": [],
   "source": [
    "answer = pd.DataFrame(answer, columns =['CHURN']);\n",
    "answer.replace(0, 'No', inplace=True);\n",
    "answer.replace(1, 'Yes', inplace=True);\n",
    "\n",
    "answer.to_csv('ANSWER.csv',index=False);"
   ]
  },
  {
   "cell_type": "code",
   "execution_count": 17,
   "metadata": {},
   "outputs": [
    {
     "data": {
      "text/plain": [
       "CHURN\n",
       "No       939\n",
       "Yes      385\n",
       "dtype: int64"
      ]
     },
     "execution_count": 17,
     "metadata": {},
     "output_type": "execute_result"
    }
   ],
   "source": [
    "answer.value_counts()"
   ]
  },
  {
   "cell_type": "code",
   "execution_count": null,
   "metadata": {},
   "outputs": [],
   "source": []
  }
 ],
 "metadata": {
  "kernelspec": {
   "display_name": "Python 3.8.0 64-bit",
   "language": "python",
   "name": "python3"
  },
  "language_info": {
   "codemirror_mode": {
    "name": "ipython",
    "version": 3
   },
   "file_extension": ".py",
   "mimetype": "text/x-python",
   "name": "python",
   "nbconvert_exporter": "python",
   "pygments_lexer": "ipython3",
   "version": "3.8.0"
  },
  "vscode": {
   "interpreter": {
    "hash": "df0893f56f349688326838aaeea0de204df53a132722cbd565e54b24a8fec5f6"
   }
  }
 },
 "nbformat": 4,
 "nbformat_minor": 1
}
