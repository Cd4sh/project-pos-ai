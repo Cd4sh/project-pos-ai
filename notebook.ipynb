{
 "cells": [
  {
   "cell_type": "code",
   "execution_count": 1,
   "metadata": {},
   "outputs": [],
   "source": [
    "import pandas as pd\n",
    "import matplotlib.pyplot as plt\n",
    "import numpy as np\n",
    "import seaborn as sns"
   ]
  },
  {
   "cell_type": "code",
   "execution_count": 2,
   "metadata": {},
   "outputs": [],
   "source": [
    "#Função de tratamento de dataset\n",
    "\n",
    "def tratamento(df):\n",
    "    df.drop(['Wearing Masks', 'Sanitization from Market'], axis=1, inplace=True);\n",
    "\n",
    "    df.replace('Yes', 1, inplace=True);\n",
    "    df.replace('No', 0, inplace=True);\n",
    "    return df;"
   ]
  },
  {
   "cell_type": "code",
   "execution_count": 3,
   "metadata": {
    "scrolled": true
   },
   "outputs": [
    {
     "data": {
      "text/plain": [
       "(5434, 21)"
      ]
     },
     "execution_count": 3,
     "metadata": {},
     "output_type": "execute_result"
    }
   ],
   "source": [
    "# Carregando o dataset\n",
    "\n",
    "df = pd.read_csv(\"dataset.csv\");\n",
    "df.shape"
   ]
  },
  {
   "cell_type": "code",
   "execution_count": 4,
   "metadata": {},
   "outputs": [],
   "source": [
    "#Visualização e percepções de dados\n",
    "#Análise univariada\n",
    "#Análise bivariada / multivariada\n",
    "#Pivot\n",
    "#Possíveis ajustes e tratamento dos dados\n",
    "#Feature engineering\n",
    "#Verificações de suposição do(s) modelo(s) de Aprendizado de\n",
    "#Máquina\n",
    "#Preparação de dados para o(s) modelo(s)"
   ]
  },
  {
   "cell_type": "code",
   "execution_count": 4,
   "metadata": {},
   "outputs": [
    {
     "data": {
      "text/html": [
       "<div>\n",
       "<style scoped>\n",
       "    .dataframe tbody tr th:only-of-type {\n",
       "        vertical-align: middle;\n",
       "    }\n",
       "\n",
       "    .dataframe tbody tr th {\n",
       "        vertical-align: top;\n",
       "    }\n",
       "\n",
       "    .dataframe thead th {\n",
       "        text-align: right;\n",
       "    }\n",
       "</style>\n",
       "<table border=\"1\" class=\"dataframe\">\n",
       "  <thead>\n",
       "    <tr style=\"text-align: right;\">\n",
       "      <th></th>\n",
       "      <th>Breathing Problem</th>\n",
       "      <th>Fever</th>\n",
       "      <th>Dry Cough</th>\n",
       "      <th>Sore throat</th>\n",
       "      <th>Running Nose</th>\n",
       "      <th>Asthma</th>\n",
       "      <th>Chronic Lung Disease</th>\n",
       "      <th>Headache</th>\n",
       "      <th>Heart Disease</th>\n",
       "      <th>Diabetes</th>\n",
       "      <th>...</th>\n",
       "      <th>Fatigue</th>\n",
       "      <th>Gastrointestinal</th>\n",
       "      <th>Abroad travel</th>\n",
       "      <th>Contact with COVID Patient</th>\n",
       "      <th>Attended Large Gathering</th>\n",
       "      <th>Visited Public Exposed Places</th>\n",
       "      <th>Family working in Public Exposed Places</th>\n",
       "      <th>Wearing Masks</th>\n",
       "      <th>Sanitization from Market</th>\n",
       "      <th>COVID-19</th>\n",
       "    </tr>\n",
       "  </thead>\n",
       "  <tbody>\n",
       "    <tr>\n",
       "      <th>0</th>\n",
       "      <td>Yes</td>\n",
       "      <td>Yes</td>\n",
       "      <td>Yes</td>\n",
       "      <td>Yes</td>\n",
       "      <td>Yes</td>\n",
       "      <td>No</td>\n",
       "      <td>No</td>\n",
       "      <td>No</td>\n",
       "      <td>No</td>\n",
       "      <td>Yes</td>\n",
       "      <td>...</td>\n",
       "      <td>Yes</td>\n",
       "      <td>Yes</td>\n",
       "      <td>No</td>\n",
       "      <td>Yes</td>\n",
       "      <td>No</td>\n",
       "      <td>Yes</td>\n",
       "      <td>Yes</td>\n",
       "      <td>No</td>\n",
       "      <td>No</td>\n",
       "      <td>Yes</td>\n",
       "    </tr>\n",
       "    <tr>\n",
       "      <th>1</th>\n",
       "      <td>Yes</td>\n",
       "      <td>Yes</td>\n",
       "      <td>Yes</td>\n",
       "      <td>Yes</td>\n",
       "      <td>No</td>\n",
       "      <td>Yes</td>\n",
       "      <td>Yes</td>\n",
       "      <td>Yes</td>\n",
       "      <td>No</td>\n",
       "      <td>No</td>\n",
       "      <td>...</td>\n",
       "      <td>Yes</td>\n",
       "      <td>No</td>\n",
       "      <td>No</td>\n",
       "      <td>No</td>\n",
       "      <td>Yes</td>\n",
       "      <td>Yes</td>\n",
       "      <td>No</td>\n",
       "      <td>No</td>\n",
       "      <td>No</td>\n",
       "      <td>Yes</td>\n",
       "    </tr>\n",
       "  </tbody>\n",
       "</table>\n",
       "<p>2 rows × 21 columns</p>\n",
       "</div>"
      ],
      "text/plain": [
       "  Breathing Problem Fever Dry Cough Sore throat Running Nose Asthma  \\\n",
       "0               Yes   Yes       Yes         Yes          Yes     No   \n",
       "1               Yes   Yes       Yes         Yes           No    Yes   \n",
       "\n",
       "  Chronic Lung Disease Headache Heart Disease Diabetes  ... Fatigue   \\\n",
       "0                   No       No            No      Yes  ...      Yes   \n",
       "1                  Yes      Yes            No       No  ...      Yes   \n",
       "\n",
       "  Gastrointestinal  Abroad travel Contact with COVID Patient  \\\n",
       "0               Yes            No                        Yes   \n",
       "1                No            No                         No   \n",
       "\n",
       "  Attended Large Gathering Visited Public Exposed Places  \\\n",
       "0                       No                           Yes   \n",
       "1                      Yes                           Yes   \n",
       "\n",
       "  Family working in Public Exposed Places Wearing Masks  \\\n",
       "0                                     Yes            No   \n",
       "1                                      No            No   \n",
       "\n",
       "  Sanitization from Market COVID-19  \n",
       "0                       No      Yes  \n",
       "1                       No      Yes  \n",
       "\n",
       "[2 rows x 21 columns]"
      ]
     },
     "execution_count": 4,
     "metadata": {},
     "output_type": "execute_result"
    }
   ],
   "source": [
    "df.head(2)"
   ]
  },
  {
   "cell_type": "markdown",
   "metadata": {},
   "source": [
    "Podemos usar os métodos `.info()`, `.value_counts()` e `.describe()` para obter informações básicas sobre quantidade presente dos dados, tipos e valores deles."
   ]
  },
  {
   "cell_type": "code",
   "execution_count": 5,
   "metadata": {},
   "outputs": [],
   "source": [
    "df = tratamento(df);"
   ]
  },
  {
   "cell_type": "code",
   "execution_count": 6,
   "metadata": {},
   "outputs": [
    {
     "data": {
      "text/html": [
       "<div>\n",
       "<style scoped>\n",
       "    .dataframe tbody tr th:only-of-type {\n",
       "        vertical-align: middle;\n",
       "    }\n",
       "\n",
       "    .dataframe tbody tr th {\n",
       "        vertical-align: top;\n",
       "    }\n",
       "\n",
       "    .dataframe thead th {\n",
       "        text-align: right;\n",
       "    }\n",
       "</style>\n",
       "<table border=\"1\" class=\"dataframe\">\n",
       "  <thead>\n",
       "    <tr style=\"text-align: right;\">\n",
       "      <th></th>\n",
       "      <th>Breathing Problem</th>\n",
       "      <th>Fever</th>\n",
       "      <th>Dry Cough</th>\n",
       "      <th>Sore throat</th>\n",
       "      <th>Running Nose</th>\n",
       "      <th>Asthma</th>\n",
       "      <th>Chronic Lung Disease</th>\n",
       "      <th>Headache</th>\n",
       "      <th>Heart Disease</th>\n",
       "      <th>Diabetes</th>\n",
       "      <th>Hyper Tension</th>\n",
       "      <th>Fatigue</th>\n",
       "      <th>Gastrointestinal</th>\n",
       "      <th>Abroad travel</th>\n",
       "      <th>Contact with COVID Patient</th>\n",
       "      <th>Attended Large Gathering</th>\n",
       "      <th>Visited Public Exposed Places</th>\n",
       "      <th>Family working in Public Exposed Places</th>\n",
       "      <th>COVID-19</th>\n",
       "    </tr>\n",
       "  </thead>\n",
       "  <tbody>\n",
       "    <tr>\n",
       "      <th>count</th>\n",
       "      <td>5434.000000</td>\n",
       "      <td>5434.000000</td>\n",
       "      <td>5434.000000</td>\n",
       "      <td>5434.000000</td>\n",
       "      <td>5434.000000</td>\n",
       "      <td>5434.000000</td>\n",
       "      <td>5434.000000</td>\n",
       "      <td>5434.000000</td>\n",
       "      <td>5434.000000</td>\n",
       "      <td>5434.000000</td>\n",
       "      <td>5434.000000</td>\n",
       "      <td>5434.000000</td>\n",
       "      <td>5434.000000</td>\n",
       "      <td>5434.000000</td>\n",
       "      <td>5434.000000</td>\n",
       "      <td>5434.000000</td>\n",
       "      <td>5434.000000</td>\n",
       "      <td>5434.000000</td>\n",
       "      <td>5434.000000</td>\n",
       "    </tr>\n",
       "    <tr>\n",
       "      <th>mean</th>\n",
       "      <td>0.666176</td>\n",
       "      <td>0.786345</td>\n",
       "      <td>0.792602</td>\n",
       "      <td>0.727457</td>\n",
       "      <td>0.543246</td>\n",
       "      <td>0.462643</td>\n",
       "      <td>0.472028</td>\n",
       "      <td>0.503497</td>\n",
       "      <td>0.464299</td>\n",
       "      <td>0.476261</td>\n",
       "      <td>0.490063</td>\n",
       "      <td>0.519139</td>\n",
       "      <td>0.469452</td>\n",
       "      <td>0.451049</td>\n",
       "      <td>0.501656</td>\n",
       "      <td>0.461907</td>\n",
       "      <td>0.518955</td>\n",
       "      <td>0.416268</td>\n",
       "      <td>0.806588</td>\n",
       "    </tr>\n",
       "    <tr>\n",
       "      <th>std</th>\n",
       "      <td>0.471621</td>\n",
       "      <td>0.409924</td>\n",
       "      <td>0.405480</td>\n",
       "      <td>0.445309</td>\n",
       "      <td>0.498172</td>\n",
       "      <td>0.498648</td>\n",
       "      <td>0.499263</td>\n",
       "      <td>0.500034</td>\n",
       "      <td>0.498770</td>\n",
       "      <td>0.499482</td>\n",
       "      <td>0.499947</td>\n",
       "      <td>0.499680</td>\n",
       "      <td>0.499112</td>\n",
       "      <td>0.497644</td>\n",
       "      <td>0.500043</td>\n",
       "      <td>0.498593</td>\n",
       "      <td>0.499687</td>\n",
       "      <td>0.492984</td>\n",
       "      <td>0.395009</td>\n",
       "    </tr>\n",
       "    <tr>\n",
       "      <th>min</th>\n",
       "      <td>0.000000</td>\n",
       "      <td>0.000000</td>\n",
       "      <td>0.000000</td>\n",
       "      <td>0.000000</td>\n",
       "      <td>0.000000</td>\n",
       "      <td>0.000000</td>\n",
       "      <td>0.000000</td>\n",
       "      <td>0.000000</td>\n",
       "      <td>0.000000</td>\n",
       "      <td>0.000000</td>\n",
       "      <td>0.000000</td>\n",
       "      <td>0.000000</td>\n",
       "      <td>0.000000</td>\n",
       "      <td>0.000000</td>\n",
       "      <td>0.000000</td>\n",
       "      <td>0.000000</td>\n",
       "      <td>0.000000</td>\n",
       "      <td>0.000000</td>\n",
       "      <td>0.000000</td>\n",
       "    </tr>\n",
       "    <tr>\n",
       "      <th>25%</th>\n",
       "      <td>0.000000</td>\n",
       "      <td>1.000000</td>\n",
       "      <td>1.000000</td>\n",
       "      <td>0.000000</td>\n",
       "      <td>0.000000</td>\n",
       "      <td>0.000000</td>\n",
       "      <td>0.000000</td>\n",
       "      <td>0.000000</td>\n",
       "      <td>0.000000</td>\n",
       "      <td>0.000000</td>\n",
       "      <td>0.000000</td>\n",
       "      <td>0.000000</td>\n",
       "      <td>0.000000</td>\n",
       "      <td>0.000000</td>\n",
       "      <td>0.000000</td>\n",
       "      <td>0.000000</td>\n",
       "      <td>0.000000</td>\n",
       "      <td>0.000000</td>\n",
       "      <td>1.000000</td>\n",
       "    </tr>\n",
       "    <tr>\n",
       "      <th>50%</th>\n",
       "      <td>1.000000</td>\n",
       "      <td>1.000000</td>\n",
       "      <td>1.000000</td>\n",
       "      <td>1.000000</td>\n",
       "      <td>1.000000</td>\n",
       "      <td>0.000000</td>\n",
       "      <td>0.000000</td>\n",
       "      <td>1.000000</td>\n",
       "      <td>0.000000</td>\n",
       "      <td>0.000000</td>\n",
       "      <td>0.000000</td>\n",
       "      <td>1.000000</td>\n",
       "      <td>0.000000</td>\n",
       "      <td>0.000000</td>\n",
       "      <td>1.000000</td>\n",
       "      <td>0.000000</td>\n",
       "      <td>1.000000</td>\n",
       "      <td>0.000000</td>\n",
       "      <td>1.000000</td>\n",
       "    </tr>\n",
       "    <tr>\n",
       "      <th>75%</th>\n",
       "      <td>1.000000</td>\n",
       "      <td>1.000000</td>\n",
       "      <td>1.000000</td>\n",
       "      <td>1.000000</td>\n",
       "      <td>1.000000</td>\n",
       "      <td>1.000000</td>\n",
       "      <td>1.000000</td>\n",
       "      <td>1.000000</td>\n",
       "      <td>1.000000</td>\n",
       "      <td>1.000000</td>\n",
       "      <td>1.000000</td>\n",
       "      <td>1.000000</td>\n",
       "      <td>1.000000</td>\n",
       "      <td>1.000000</td>\n",
       "      <td>1.000000</td>\n",
       "      <td>1.000000</td>\n",
       "      <td>1.000000</td>\n",
       "      <td>1.000000</td>\n",
       "      <td>1.000000</td>\n",
       "    </tr>\n",
       "    <tr>\n",
       "      <th>max</th>\n",
       "      <td>1.000000</td>\n",
       "      <td>1.000000</td>\n",
       "      <td>1.000000</td>\n",
       "      <td>1.000000</td>\n",
       "      <td>1.000000</td>\n",
       "      <td>1.000000</td>\n",
       "      <td>1.000000</td>\n",
       "      <td>1.000000</td>\n",
       "      <td>1.000000</td>\n",
       "      <td>1.000000</td>\n",
       "      <td>1.000000</td>\n",
       "      <td>1.000000</td>\n",
       "      <td>1.000000</td>\n",
       "      <td>1.000000</td>\n",
       "      <td>1.000000</td>\n",
       "      <td>1.000000</td>\n",
       "      <td>1.000000</td>\n",
       "      <td>1.000000</td>\n",
       "      <td>1.000000</td>\n",
       "    </tr>\n",
       "  </tbody>\n",
       "</table>\n",
       "</div>"
      ],
      "text/plain": [
       "       Breathing Problem        Fever    Dry Cough  Sore throat  Running Nose  \\\n",
       "count        5434.000000  5434.000000  5434.000000  5434.000000   5434.000000   \n",
       "mean            0.666176     0.786345     0.792602     0.727457      0.543246   \n",
       "std             0.471621     0.409924     0.405480     0.445309      0.498172   \n",
       "min             0.000000     0.000000     0.000000     0.000000      0.000000   \n",
       "25%             0.000000     1.000000     1.000000     0.000000      0.000000   \n",
       "50%             1.000000     1.000000     1.000000     1.000000      1.000000   \n",
       "75%             1.000000     1.000000     1.000000     1.000000      1.000000   \n",
       "max             1.000000     1.000000     1.000000     1.000000      1.000000   \n",
       "\n",
       "            Asthma  Chronic Lung Disease     Headache  Heart Disease  \\\n",
       "count  5434.000000           5434.000000  5434.000000    5434.000000   \n",
       "mean      0.462643              0.472028     0.503497       0.464299   \n",
       "std       0.498648              0.499263     0.500034       0.498770   \n",
       "min       0.000000              0.000000     0.000000       0.000000   \n",
       "25%       0.000000              0.000000     0.000000       0.000000   \n",
       "50%       0.000000              0.000000     1.000000       0.000000   \n",
       "75%       1.000000              1.000000     1.000000       1.000000   \n",
       "max       1.000000              1.000000     1.000000       1.000000   \n",
       "\n",
       "          Diabetes  Hyper Tension     Fatigue   Gastrointestinal   \\\n",
       "count  5434.000000    5434.000000  5434.000000        5434.000000   \n",
       "mean      0.476261       0.490063     0.519139           0.469452   \n",
       "std       0.499482       0.499947     0.499680           0.499112   \n",
       "min       0.000000       0.000000     0.000000           0.000000   \n",
       "25%       0.000000       0.000000     0.000000           0.000000   \n",
       "50%       0.000000       0.000000     1.000000           0.000000   \n",
       "75%       1.000000       1.000000     1.000000           1.000000   \n",
       "max       1.000000       1.000000     1.000000           1.000000   \n",
       "\n",
       "       Abroad travel  Contact with COVID Patient  Attended Large Gathering  \\\n",
       "count    5434.000000                 5434.000000               5434.000000   \n",
       "mean        0.451049                    0.501656                  0.461907   \n",
       "std         0.497644                    0.500043                  0.498593   \n",
       "min         0.000000                    0.000000                  0.000000   \n",
       "25%         0.000000                    0.000000                  0.000000   \n",
       "50%         0.000000                    1.000000                  0.000000   \n",
       "75%         1.000000                    1.000000                  1.000000   \n",
       "max         1.000000                    1.000000                  1.000000   \n",
       "\n",
       "       Visited Public Exposed Places  Family working in Public Exposed Places  \\\n",
       "count                    5434.000000                              5434.000000   \n",
       "mean                        0.518955                                 0.416268   \n",
       "std                         0.499687                                 0.492984   \n",
       "min                         0.000000                                 0.000000   \n",
       "25%                         0.000000                                 0.000000   \n",
       "50%                         1.000000                                 0.000000   \n",
       "75%                         1.000000                                 1.000000   \n",
       "max                         1.000000                                 1.000000   \n",
       "\n",
       "          COVID-19  \n",
       "count  5434.000000  \n",
       "mean      0.806588  \n",
       "std       0.395009  \n",
       "min       0.000000  \n",
       "25%       1.000000  \n",
       "50%       1.000000  \n",
       "75%       1.000000  \n",
       "max       1.000000  "
      ]
     },
     "execution_count": 6,
     "metadata": {},
     "output_type": "execute_result"
    }
   ],
   "source": [
    "df.describe()\n"
   ]
  },
  {
   "cell_type": "code",
   "execution_count": 26,
   "metadata": {},
   "outputs": [
    {
     "data": {
      "image/png": "[encoded data removed]",
      "text/plain": [
       "<Figure size 432x288 with 1 Axes>"
      ]
     },
     "metadata": {
      "needs_background": "light"
     },
     "output_type": "display_data"
    }
   ],
   "source": [
    "#Observa-se que o dataset está desbalanceado\n",
    "\n",
    "risk_plot = sns.countplot(data=df, x='COVID-19', order=df['COVID-19'].value_counts().index)\n",
    "plt.show()"
   ]
  },
  {
   "cell_type": "code",
   "execution_count": 8,
   "metadata": {},
   "outputs": [
    {
     "data": {
      "image/png": "[encoded data removed]",
      "text/plain": [
       "<Figure size 432x288 with 2 Axes>"
      ]
     },
     "metadata": {
      "needs_background": "light"
     },
     "output_type": "display_data"
    }
   ],
   "source": [
    "#df.corr().style.background_gradient(cmap='coolwarm', axis=None)\n",
    "sns.heatmap(df.corr(), cmap=\"Reds\")\n",
    "plt.show()"
   ]
  },
  {
   "cell_type": "code",
   "execution_count": 9,
   "metadata": {},
   "outputs": [
    {
     "data": {
      "text/plain": [
       "Index(['Breathing Problem', 'Fever', 'Dry Cough', 'Sore throat',\n",
       "       'Running Nose', 'Asthma', 'Chronic Lung Disease', 'Headache',\n",
       "       'Heart Disease', 'Diabetes', 'Hyper Tension', 'Fatigue ',\n",
       "       'Gastrointestinal ', 'Abroad travel', 'Contact with COVID Patient',\n",
       "       'Attended Large Gathering', 'Visited Public Exposed Places',\n",
       "       'Family working in Public Exposed Places', 'COVID-19'],\n",
       "      dtype='object')"
      ]
     },
     "execution_count": 9,
     "metadata": {},
     "output_type": "execute_result"
    }
   ],
   "source": [
    "df.columns"
   ]
  },
  {
   "cell_type": "code",
   "execution_count": 18,
   "metadata": {},
   "outputs": [],
   "source": [
    "correlation = abs(df[df.columns[:]].corr())['COVID-19'][:].sort_values(ascending=False)\n"
   ]
  },
  {
   "cell_type": "code",
   "execution_count": 19,
   "metadata": {},
   "outputs": [
    {
     "data": {
      "image/png": "[encoded data removed]",
      "text/plain": [
       "<Figure size 432x288 with 1 Axes>"
      ]
     },
     "metadata": {
      "needs_background": "light"
     },
     "output_type": "display_data"
    }
   ],
   "source": [
    "sns.barplot( x=correlation.values, y=correlation.index)\n",
    "plt.show()"
   ]
  },
  {
   "cell_type": "code",
   "execution_count": 36,
   "metadata": {},
   "outputs": [],
   "source": [
    "\n",
    "features = ['Breathing Problem', 'Fever', 'Dry Cough', 'Sore throat',\n",
    "       'Running Nose', 'Asthma', 'Chronic Lung Disease', 'Headache',\n",
    "       'Heart Disease', 'Diabetes', 'Hyper Tension', 'Fatigue ',\n",
    "       'Gastrointestinal ', 'Contact with COVID Patient',\n",
    "       'Attended Large Gathering', 'Visited Public Exposed Places',\n",
    "       'Family working in Public Exposed Places']\n",
    "\n",
    "target = ['COVID-19']\n",
    "\n",
    "X = df[features]\n",
    "y = df[target]"
   ]
  },
  {
   "cell_type": "code",
   "execution_count": 32,
   "metadata": {},
   "outputs": [
    {
     "data": {
      "text/plain": [
       "COVID-19\n",
       "0           4383\n",
       "1           4383\n",
       "dtype: int64"
      ]
     },
     "execution_count": 32,
     "metadata": {},
     "output_type": "execute_result"
    }
   ],
   "source": [
    "from imblearn.over_sampling import SMOTE\n",
    "\n",
    "oversample = SMOTE()\n",
    "X, y = oversample.fit_resample(X, y)\n",
    "\n",
    "y.value_counts()"
   ]
  },
  {
   "cell_type": "code",
   "execution_count": 35,
   "metadata": {},
   "outputs": [
    {
     "data": {
      "image/png": "[encoded data removed]",
      "text/plain": [
       "<Figure size 432x288 with 1 Axes>"
      ]
     },
     "metadata": {
      "needs_background": "light"
     },
     "output_type": "display_data"
    }
   ],
   "source": [
    "df = pd.concat([X, y]);\n",
    "sns.countplot(data=df, x='COVID-19', order=df['COVID-19'].value_counts().index)\n",
    "plt.show()"
   ]
  },
  {
   "cell_type": "markdown",
   "metadata": {},
   "source": [
    "## Criação do modelo\n",
    "\n",
    "Para conseguir avaliar o desempenho do nosso modelo, vamos dividir os dados que temos entre dados de treino e de teste, e assim, após o treinamento, verificar como ele está se saindo com as predições."
   ]
  },
  {
   "cell_type": "code",
   "execution_count": 38,
   "metadata": {},
   "outputs": [],
   "source": [
    "from sklearn.linear_model import LogisticRegression\n",
    "from fast_ml.model_development import train_valid_test_split\n",
    "from sklearn.model_selection import cross_val_score"
   ]
  },
  {
   "cell_type": "code",
   "execution_count": 39,
   "metadata": {},
   "outputs": [],
   "source": [
    "split = train_valid_test_split(df, target = target, train_size=0.8,\n",
    "                                        valid_size=0.1, test_size=0.1)\n",
    "                                        \n",
    "X_train, y_train, X_valid, y_valid, X_test, y_test = split"
   ]
  },
  {
   "cell_type": "code",
   "execution_count": 7,
   "metadata": {},
   "outputs": [],
   "source": [
    "lr = LogisticRegression(solver='liblinear')\n",
    "scores = cross_val_score(lr, x, y, cv=10, scoring='accuracy')\n",
    "print('Acurácia média:', scores.mean())"
   ]
  },
  {
   "cell_type": "code",
   "execution_count": 11,
   "metadata": {},
   "outputs": [
    {
     "data": {
      "text/plain": [
       "CHURN               1.000000\n",
       "CONTRACT            0.398171\n",
       "TENURE              0.358111\n",
       "INTERNETSERVICE     0.314863\n",
       "ONLINESECURITY      0.284204\n",
       "TECHSUPPORT         0.284006\n",
       "PAYMENTMETHOD       0.282370\n",
       "ONLINEBACKUP        0.265068\n",
       "DEVICEPROTECTION    0.259771\n",
       "STREAMINGMOVIES     0.223920\n",
       "STREAMINGTV         0.223664\n",
       "PAPERLESSBILLING    0.203243\n",
       "TOTALCHARGES        0.203189\n",
       "DEPENDENTS          0.162725\n",
       "SENIORCITIZEN       0.152072\n",
       "PARTNER             0.149045\n",
       "MONTHLYCHARGES      0.096750\n",
       "GENDER              0.022519\n",
       "PHONESERVICE        0.009270\n",
       "ID                  0.008961\n",
       "MULTIPLELINES       0.000023\n",
       "Name: CHURN, dtype: float64"
      ]
     },
     "execution_count": 11,
     "metadata": {},
     "output_type": "execute_result"
    }
   ],
   "source": [
    "clean_df.columns.size\n",
    "#print(clean_df.columns);\n",
    "\n",
    "#Analisando a correlação entre cada coluna e a coluna objetivo para a escolha de parâmetros:\n",
    "abs(clean_df[clean_df.columns[:]].corr())['CHURN'][:].sort_values(ascending=False)"
   ]
  },
  {
   "cell_type": "markdown",
   "metadata": {},
   "source": [
    "Foram escolhidos como parâmetros colunas com correlação maior que 0.02 para com a variável objetivo.\n"
   ]
  },
  {
   "cell_type": "code",
   "execution_count": 12,
   "metadata": {},
   "outputs": [
    {
     "data": {
      "text/plain": [
       "CHURN\n",
       "1        3029\n",
       "0        3029\n",
       "dtype: int64"
      ]
     },
     "execution_count": 12,
     "metadata": {},
     "output_type": "execute_result"
    }
   ],
   "source": [
    "features = ['GENDER', 'SENIORCITIZEN', 'PARTNER', 'DEPENDENTS', 'TENURE',\n",
    "       'INTERNETSERVICE', 'ONLINESECURITY',\n",
    "       'ONLINEBACKUP', 'DEVICEPROTECTION', 'TECHSUPPORT', 'STREAMINGTV',\n",
    "       'STREAMINGMOVIES', 'CONTRACT', 'PAPERLESSBILLING', 'PAYMENTMETHOD',\n",
    "       'MONTHLYCHARGES', 'TOTALCHARGES']\n",
    "\n",
    "target = ['CHURN']\n",
    "\n",
    "X = clean_df[features]\n",
    "y = clean_df[target]"
   ]
  },
  {
   "cell_type": "markdown",
   "metadata": {},
   "source": [
    "O SMOTE foi a alternativa usada para lidar com o desbalanceamento"
   ]
  },
  {
   "cell_type": "code",
   "execution_count": 13,
   "metadata": {},
   "outputs": [
    {
     "data": {
      "text/plain": [
       "CHURN\n",
       "1        3029\n",
       "0        3029\n",
       "dtype: int64"
      ]
     },
     "execution_count": 13,
     "metadata": {},
     "output_type": "execute_result"
    }
   ],
   "source": [
    "oversample = SMOTE()\n",
    "X, y = oversample.fit_resample(X, y)\n",
    "\n",
    "y.value_counts()"
   ]
  },
  {
   "cell_type": "markdown",
   "metadata": {},
   "source": [
    "Abaixo, separamos os dados que queremos predizer dos dados que utilizamos como informações para a predição."
   ]
  },
  {
   "cell_type": "code",
   "execution_count": 14,
   "metadata": {},
   "outputs": [
    {
     "name": "stdout",
     "output_type": "stream",
     "text": [
      "Acurácia do modelo (número de predições assertivas sobre número total de testes): 0.8548770816812055\n"
     ]
    }
   ],
   "source": [
    "test_pct = 0.2 # Separaremos 30% dos dados para testes\n",
    "X_train, X_test, y_train, y_test = train_test_split(X, y, test_size=test_pct)\n",
    "\n",
    "model = RandomForestClassifier(n_estimators=999)\n",
    "model.fit(X_train, y_train.values.ravel())\n",
    "\n",
    "y_pred = model.predict(X_test);\n",
    "acc = f1_score(y_test, y_pred);\n",
    "print(f\"Acurácia do modelo (número de predições assertivas sobre número total de testes): {acc}\")"
   ]
  },
  {
   "cell_type": "code",
   "execution_count": 15,
   "metadata": {},
   "outputs": [],
   "source": [
    "dfa = pd.read_csv(\"ANSWER.csv\");\n",
    "\n",
    "dfa = tratamento(dfa);\n",
    "\n",
    "answer = model.predict(dfa[features]);"
   ]
  },
  {
   "cell_type": "code",
   "execution_count": 16,
   "metadata": {},
   "outputs": [],
   "source": [
    "answer = pd.DataFrame(answer, columns =['CHURN']);\n",
    "answer.replace(0, 'No', inplace=True);\n",
    "answer.replace(1, 'Yes', inplace=True);\n",
    "\n",
    "answer.to_csv('ANSWER.csv',index=False);"
   ]
  },
  {
   "cell_type": "code",
   "execution_count": 17,
   "metadata": {},
   "outputs": [
    {
     "data": {
      "text/plain": [
       "CHURN\n",
       "No       939\n",
       "Yes      385\n",
       "dtype: int64"
      ]
     },
     "execution_count": 17,
     "metadata": {},
     "output_type": "execute_result"
    }
   ],
   "source": [
    "answer.value_counts()"
   ]
  },
  {
   "cell_type": "code",
   "execution_count": null,
   "metadata": {},
   "outputs": [],
   "source": []
  }
 ],
 "metadata": {
  "kernelspec": {
   "display_name": "Python 3.8.0 64-bit",
   "language": "python",
   "name": "python3"
  },
  "language_info": {
   "codemirror_mode": {
    "name": "ipython",
    "version": 3
   },
   "file_extension": ".py",
   "mimetype": "text/x-python",
   "name": "python",
   "nbconvert_exporter": "python",
   "pygments_lexer": "ipython3",
   "version": "3.8.0"
  },
  "vscode": {
   "interpreter": {
    "hash": "df0893f56f349688326838aaeea0de204df53a132722cbd565e54b24a8fec5f6"
   }
  }
 },
 "nbformat": 4,
 "nbformat_minor": 1
}
